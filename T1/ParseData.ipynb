{
 "cells": [
  {
   "cell_type": "code",
   "execution_count": 186,
   "metadata": {
    "collapsed": true,
    "pycharm": {
     "is_executing": false,
     "name": "#%%\n"
    }
   },
   "outputs": [
    {
     "name": "stdout",
     "text": [
      "(640, 1) (640, 12, 4096)\n"
     ],
     "output_type": "stream"
    }
   ],
   "source": [
    "import pandas as pd\n",
    "import numpy as np\n",
    "import seaborn as sns\n",
    "from matplotlib import pyplot as plt\n",
    "import scipy.io\n",
    "filePattern_train = [\"data/parsed_P0\"+str(x)+\"T.mat\" for x in range(1,9)]\n",
    "raw_data = []\n",
    "labels = []\n",
    "\n",
    "def standardize(data):\n",
    "    return (data-np.mean(data))/np.std(data)\n",
    "\n",
    "for train_file in filePattern_train:\n",
    "    mat = scipy.io.loadmat(train_file)\n",
    "    #print(mat['RawEEGData'][0][0])\n",
    "    raw_data.append(standardize(np.array(mat['RawEEGData'])))\n",
    "    labels.append(mat['Labels']-1)\n",
    "    # print((raw_data[0][0][0][0:4]))\n",
    "    # df = pd.DataFrame(raw_data[0][0][0][0:200])\n",
    "    # df.plot(figsize=(30,5))\n",
    "    # plt.show()\n",
    "    #print(df)\n",
    "np_data = np.concatenate(raw_data,axis=0)\n",
    "np_labels = np.concatenate(labels,axis=0)\n",
    "print(np_labels.shape,np_data.shape)\n",
    "\n"
   ]
  },
  {
   "cell_type": "code",
   "execution_count": 187,
   "outputs": [
    {
     "name": "stdout",
     "text": [
      "(10240, 1) (10240, 256, 12)\n"
     ],
     "output_type": "stream"
    }
   ],
   "source": [
    "np_data = np.array(np.concatenate(np.split(np_data,16,axis=2),axis=0))\n",
    "np_data=np_data.reshape((-1,256,12))\n",
    "\n",
    "np_labels=np_labels.repeat(16)[:,np.newaxis]\n",
    "print(np_labels.shape,np_data.shape)\n",
    "\n",
    "\n"
   ],
   "metadata": {
    "collapsed": false,
    "pycharm": {
     "name": "#%%\n",
     "is_executing": false
    }
   }
  },
  {
   "cell_type": "code",
   "execution_count": null,
   "outputs": [],
   "source": [
    "b=pd.Panel(rollaxis(np_data,2)).to_frame()\n",
    "c=b.set_index(b.index.labels[0]).reset_index()"
   ],
   "metadata": {
    "collapsed": false,
    "pycharm": {
     "name": "#%%\n"
    }
   }
  },
  {
   "cell_type": "code",
   "execution_count": 188,
   "outputs": [
    {
     "name": "stdout",
     "text": [
      "Done\n"
     ],
     "output_type": "stream"
    }
   ],
   "source": [
    "import pickle as pkl\n",
    "pkl.dump((np_data,np_labels),open(\"train_data.pkl\",'wb'))\n",
    "print(\"Done\")\n",
    "\n"
   ],
   "metadata": {
    "collapsed": false,
    "pycharm": {
     "name": "#%%\n",
     "is_executing": false
    }
   }
  },
  {
   "cell_type": "markdown",
   "source": [
    "Test Data"
   ],
   "metadata": {
    "collapsed": false
   }
  },
  {
   "cell_type": "code",
   "execution_count": 189,
   "outputs": [
    {
     "name": "stdout",
     "text": [
      "(400, 12, 4096)\n"
     ],
     "output_type": "stream"
    }
   ],
   "source": [
    "filePattern_test = [\"data/parsed_P0\"+str(x)+\"E.mat\" for x in range(1,10)]\n",
    "filePattern_test.append('data/parsed_P10E.mat')\n",
    "raw_data = []\n",
    "\n",
    "def standardize(data):\n",
    "    return (data-np.mean(data))/np.std(data)\n",
    "\n",
    "for train_file in filePattern_test:\n",
    "    mat = scipy.io.loadmat(train_file)\n",
    "    #print(mat['RawEEGData'][0][0])\n",
    "    raw_data.append(standardize(np.array(mat['RawEEGData'])))\n",
    "    # print((raw_data[0][0][0][0:4]))\n",
    "    # df = pd.DataFrame(raw_data[0][0][0][0:200])\n",
    "    # df.plot(figsize=(30,5))\n",
    "    # plt.show()\n",
    "    # break\n",
    "    #print(df)\n",
    "np_data = np.concatenate(raw_data,axis=0)\n",
    "print(np_data.shape)\n",
    "\n"
   ],
   "metadata": {
    "collapsed": false,
    "pycharm": {
     "name": "#%%\n",
     "is_executing": false
    }
   }
  },
  {
   "cell_type": "code",
   "execution_count": 190,
   "outputs": [
    {
     "name": "stdout",
     "text": [
      "(6400, 12, 256)\n"
     ],
     "output_type": "stream"
    }
   ],
   "source": [
    "np_data = np.array(np.concatenate(np.split(np_data,16,axis=2),axis=0))\n",
    "print(np_data.shape)\n"
   ],
   "metadata": {
    "collapsed": false,
    "pycharm": {
     "name": "#%%\n",
     "is_executing": false
    }
   }
  },
  {
   "cell_type": "code",
   "execution_count": 191,
   "outputs": [
    {
     "name": "stdout",
     "text": [
      "Done\n"
     ],
     "output_type": "stream"
    }
   ],
   "source": [
    "import pickle as pkl\n",
    "pkl.dump(np_data,open(\"test_data.pkl\",'wb'))\n",
    "print(\"Done\")\n",
    "\n",
    "\n",
    "\n"
   ],
   "metadata": {
    "collapsed": false,
    "pycharm": {
     "name": "#%%\n",
     "is_executing": false
    }
   }
  }
 ],
 "metadata": {
  "kernelspec": {
   "display_name": "Python 3",
   "language": "python",
   "name": "python3"
  },
  "language_info": {
   "codemirror_mode": {
    "name": "ipython",
    "version": 2
   },
   "file_extension": ".py",
   "mimetype": "text/x-python",
   "name": "python",
   "nbconvert_exporter": "python",
   "pygments_lexer": "ipython2",
   "version": "2.7.6"
  },
  "pycharm": {
   "stem_cell": {
    "cell_type": "raw",
    "source": [],
    "metadata": {
     "collapsed": false
    }
   }
  }
 },
 "nbformat": 4,
 "nbformat_minor": 0
}